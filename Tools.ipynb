{
 "cells": [
  {
   "cell_type": "markdown",
   "id": "58cca0df",
   "metadata": {},
   "source": [
    "# My Jupyter Notebook on IBM Watson Studio"
   ]
  },
  {
   "cell_type": "markdown",
   "id": "d18aa6ea",
   "metadata": {},
   "source": [
    "# Rauf Giwa"
   ]
  },
  {
   "cell_type": "markdown",
   "id": "2920f5c3",
   "metadata": {},
   "source": [
    "### I am interested in data science because I want to pursue an exciting career "
   ]
  },
  {
   "cell_type": "code",
   "execution_count": 1,
   "id": "626cd2cb",
   "metadata": {},
   "outputs": [
    {
     "data": {
      "text/plain": [
       "2"
      ]
     },
     "execution_count": 1,
     "metadata": {},
     "output_type": "execute_result"
    }
   ],
   "source": [
    "1+1"
   ]
  },
  {
   "cell_type": "markdown",
   "id": "e8ca0634",
   "metadata": {},
   "source": [
    "numbered list\n",
    "\n",
    "1. Introduction\n",
    "2. Review\n",
    "3. Results\n",
    "4. Conclusion\n",
    "\n",
    "\n",
    "\n",
    "Image \n",
    "![alt text][logo]\n",
    "\n",
    "[logo]: /Koinonia.png \"Logo Title Text 2\"\n",
    "\n",
    "horizontal rule:\n",
    "\n",
    "---\n",
    "\n",
    "Hyphens"
   ]
  },
  {
   "cell_type": "code",
   "execution_count": null,
   "id": "5ce9bdca",
   "metadata": {},
   "outputs": [],
   "source": []
  }
 ],
 "metadata": {
  "kernelspec": {
   "display_name": "Python 3",
   "language": "python",
   "name": "python3"
  },
  "language_info": {
   "codemirror_mode": {
    "name": "ipython",
    "version": 3
   },
   "file_extension": ".py",
   "mimetype": "text/x-python",
   "name": "python",
   "nbconvert_exporter": "python",
   "pygments_lexer": "ipython3",
   "version": "3.8.8"
  }
 },
 "nbformat": 4,
 "nbformat_minor": 5
}
